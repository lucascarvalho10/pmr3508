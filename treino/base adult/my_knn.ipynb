{
 "cells": [
  {
   "cell_type": "markdown",
   "metadata": {},
   "source": [
    "# PMR3508 - Aprendizado de Máquina e Reconhecimento de Padrões"
   ]
  },
  {
   "cell_type": "markdown",
   "metadata": {},
   "source": [
    "### Bibliotecas"
   ]
  },
  {
   "cell_type": "code",
   "execution_count": 1,
   "metadata": {},
   "outputs": [],
   "source": [
    "import numpy as np\n",
    "from collections import Counter"
   ]
  },
  {
   "cell_type": "markdown",
   "metadata": {},
   "source": [
    "### Algoritmo KNN"
   ]
  },
  {
   "cell_type": "code",
   "execution_count": 2,
   "metadata": {},
   "outputs": [],
   "source": [
    "def euclidean_distance(x1, x2):\n",
    "    return np.sqrt(np.sum((x1 - x2) ** 2))\n",
    "\n",
    "def knn_predict(X_train, y_train, X_test, k, distance_metric=euclidean_distance):\n",
    "    predictions = []\n",
    "    for x_test in X_test:\n",
    "        distances = []\n",
    "        for x_train, y in zip(X_train, y_train):\n",
    "            dist = distance_metric(x_test, x_train)\n",
    "            distances.append((dist, y))\n",
    "        # Ordena com base na distância e pega os k mais próximos\n",
    "        k_nearest_neighbors = sorted(distances, key=lambda x: x[0])[:k]\n",
    "        # Conta as classes dos k vizinhos mais próximos\n",
    "        k_nearest_labels = [label for _, label in k_nearest_neighbors]\n",
    "        # Determina a classe majoritária\n",
    "        most_common = Counter(k_nearest_labels).most_common(1)\n",
    "        predictions.append(most_common[0][0])\n",
    "    \n",
    "    return predictions"
   ]
  },
  {
   "cell_type": "markdown",
   "metadata": {},
   "source": [
    "### Exemplo"
   ]
  },
  {
   "cell_type": "code",
   "execution_count": 3,
   "metadata": {},
   "outputs": [
    {
     "name": "stdout",
     "output_type": "stream",
     "text": [
      "Predição: [1]\n"
     ]
    }
   ],
   "source": [
    "# Exemplo de uso\n",
    "if __name__ == \"__main__\":\n",
    "    # Conjunto de treinamento (dados e rótulos)\n",
    "    X_train = np.array([[1, 2], [2, 3], [3, 4], [6, 8], [7, 9]])\n",
    "    y_train = np.array([0, 0, 0, 1, 1])\n",
    "    \n",
    "    # Novo ponto para classificar\n",
    "    X_test = np.array([[5, 7]])\n",
    "    \n",
    "    # Definindo o valor de K\n",
    "    k = 3\n",
    "    \n",
    "    # Fazendo a predição\n",
    "    prediction = knn_predict(X_train, y_train, X_test, k)\n",
    "    print(f\"Predição: {prediction}\")"
   ]
  }
 ],
 "metadata": {
  "kernelspec": {
   "display_name": "Python 3",
   "language": "python",
   "name": "python3"
  },
  "language_info": {
   "codemirror_mode": {
    "name": "ipython",
    "version": 3
   },
   "file_extension": ".py",
   "mimetype": "text/x-python",
   "name": "python",
   "nbconvert_exporter": "python",
   "pygments_lexer": "ipython3",
   "version": "3.11.2"
  }
 },
 "nbformat": 4,
 "nbformat_minor": 2
}
